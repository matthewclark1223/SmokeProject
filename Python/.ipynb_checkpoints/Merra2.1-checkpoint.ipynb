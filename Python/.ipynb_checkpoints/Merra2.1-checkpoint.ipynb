{
 "cells": [
  {
   "cell_type": "code",
   "execution_count": 1,
   "metadata": {},
   "outputs": [],
   "source": [
    "from pydap.client import open_url"
   ]
  },
  {
   "cell_type": "code",
   "execution_count": 2,
   "metadata": {},
   "outputs": [],
   "source": [
    "data=open_url(\"https://goldsmr5.gesdisc.eosdis.nasa.gov:443/opendap/MERRA2/M2I3NVAER.5.12.4/1980/01/MERRA2_100.inst3_3d_aer_Nv.19800101.nc4\")"
   ]
  },
  {
   "cell_type": "code",
   "execution_count": 3,
   "metadata": {},
   "outputs": [
    {
     "data": {
      "text/plain": [
       "<DatasetType with children 'RH', 'DU003', 'MSA', 'DU005', 'BCPHILIC', 'PS', 'DELP', 'SS002', 'OCPHILIC', 'DU002', 'DU004', 'AIRDENS', 'SS003', 'DU001', 'OCPHOBIC', 'BCPHOBIC', 'SS004', 'SS001', 'SO4', 'SS005', 'DMS', 'SO2', 'LWI', 'lat', 'lev', 'lon', 'time'>"
      ]
     },
     "execution_count": 3,
     "metadata": {},
     "output_type": "execute_result"
    }
   ],
   "source": [
    "data"
   ]
  },
  {
   "cell_type": "code",
   "execution_count": 7,
   "metadata": {},
   "outputs": [
    {
     "data": {
      "text/plain": [
       "<BaseType with data BaseProxy('https://goldsmr5.gesdisc.eosdis.nasa.gov:443/opendap/MERRA2/M2I3NVAER.5.12.4/1980/01/MERRA2_100.inst3_3d_aer_Nv.19800101.nc4', 'BCPHILIC', dtype('>f4'), (8, 72, 361, 576), (slice(None, None, None), slice(None, None, None), slice(None, None, None), slice(None, None, None)))>"
      ]
     },
     "execution_count": 7,
     "metadata": {},
     "output_type": "execute_result"
    }
   ],
   "source": [
    "data['BCPHILIC']"
   ]
  },
  {
   "cell_type": "code",
   "execution_count": null,
   "metadata": {},
   "outputs": [],
   "source": []
  }
 ],
 "metadata": {
  "kernelspec": {
   "display_name": "Python 2",
   "language": "python",
   "name": "python2"
  },
  "language_info": {
   "codemirror_mode": {
    "name": "ipython",
    "version": 2
   },
   "file_extension": ".py",
   "mimetype": "text/x-python",
   "name": "python",
   "nbconvert_exporter": "python",
   "pygments_lexer": "ipython2",
   "version": "2.7.16"
  }
 },
 "nbformat": 4,
 "nbformat_minor": 4
}
